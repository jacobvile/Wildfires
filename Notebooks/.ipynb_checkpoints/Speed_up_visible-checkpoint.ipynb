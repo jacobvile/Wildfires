{
 "cells": [
  {
   "cell_type": "markdown",
   "id": "8c051f2d-7c20-462b-aacc-6598e4e7a9e6",
   "metadata": {},
   "source": [
    "# This notebook will help fix the get Visible algorithm!"
   ]
  },
  {
   "cell_type": "code",
   "execution_count": 1,
   "id": "bcc94005-f5b9-4c17-9253-2971e2731989",
   "metadata": {},
   "outputs": [
    {
     "name": "stdout",
     "output_type": "stream",
     "text": [
      "\n",
      "## You are using the Python ARM Radar Toolkit (Py-ART), an open source\n",
      "## library for working with weather radar data. Py-ART is partly\n",
      "## supported by the U.S. Department of Energy as part of the Atmospheric\n",
      "## Radiation Measurement (ARM) Climate Research Facility, an Office of\n",
      "## Science user facility.\n",
      "##\n",
      "## If you use this software to prepare a publication, please cite:\n",
      "##\n",
      "##     JJ Helmus and SM Collis, JORS 2016, doi: 10.5334/jors.119\n",
      "\n"
     ]
    },
    {
     "name": "stderr",
     "output_type": "stream",
     "text": [
      "/home/196/jv1871/echotop.py:24: NumbaDeprecationWarning: \u001b[1mThe 'nopython' keyword argument was not supplied to the 'numba.jit' decorator. The implicit default value for this argument is currently False, but it will be changed to True in Numba 0.59.0. See https://numba.readthedocs.io/en/stable/reference/deprecation.html#deprecation-of-object-mode-fall-back-behaviour-when-using-jit for details.\u001b[0m\n",
      "  def cloud_top_height(\n",
      "/home/196/jv1871/echotop.py:132: NumbaDeprecationWarning: \u001b[1mThe 'nopython' keyword argument was not supplied to the 'numba.jit' decorator. The implicit default value for this argument is currently False, but it will be changed to True in Numba 0.59.0. See https://numba.readthedocs.io/en/stable/reference/deprecation.html#deprecation-of-object-mode-fall-back-behaviour-when-using-jit for details.\u001b[0m\n",
      "  def column_max_reflectivity(r, azimuth, elevation, st_sweep, ed_sweep, refl):\n"
     ]
    }
   ],
   "source": [
    "import xarray\n",
    "import numpy as np\n",
    "import pyart\n",
    "import metpy.calc as metcalc\n",
    "from metpy.units import units\n",
    "import proplot as pplt\n",
    "import cv2 as cv2\n",
    "\n",
    "import math\n",
    "import matplotlib.pyplot as pl\n",
    "import matplotlib.colors as mcolors\n",
    "import matplotlib.patches as mpatches\n",
    "from PIL import Image\n",
    "\n",
    "import os, glob\n",
    "import wildfire2 as wf2\n",
    "\n",
    "import datetime\n",
    "from netCDF4 import Dataset as ncDataset\n",
    "import cartopy.crs as ccrs\n",
    "import pyproj\n",
    "import rasterio.crs\n",
    "from rasterio import Affine\n",
    "from rasterio.warp import reproject, Resampling\n",
    "from rasterio.mask import mask\n",
    "import numpy.ma as ma\n",
    "\n",
    "import shapely\n",
    "from shapely import geometry\n",
    "from matplotlib import cm\n",
    "import fiona\n",
    "\n",
    "import satpy.modifiers.parallax as smp\n",
    "\n",
    "from cartopy_map_utils import proj4_to_cartopy\n",
    "import model as md\n",
    "import echotop as et"
   ]
  },
  {
   "cell_type": "code",
   "execution_count": 21,
   "id": "29a889db-eb30-47fb-bb05-52ac517762fa",
   "metadata": {},
   "outputs": [],
   "source": [
    "import matplotlib.pyplot as plt"
   ]
  },
  {
   "cell_type": "code",
   "execution_count": 2,
   "id": "990e2b5e-4b1a-4f32-9cb8-3fa3772f24dd",
   "metadata": {},
   "outputs": [],
   "source": [
    "year = 2019\n",
    "month = 12\n",
    "day = 28\n",
    "time = '0600'\n",
    "minLat = -38\n",
    "maxLat = -35\n",
    "minLon = 149\n",
    "maxLon = 151"
   ]
  },
  {
   "cell_type": "code",
   "execution_count": 3,
   "id": "e4d15821-5892-4cc7-905b-ccdb6c476789",
   "metadata": {},
   "outputs": [],
   "source": [
    "def getSatelliteData(year, month, day, time, channel):\n",
    "    path_sat = f'/g/data/ra22/satellite-products/arc/obs/himawari-ahi/fldk/latest/{year}/{month}/{day}/{time}/'\n",
    "    if (channel == 'f1'):\n",
    "        ## Visible Channels\n",
    "        data = np.squeeze(xarray.open_dataset(path_sat + f'{year}{month}{day}{time}00-P1S-ABOM_OBS_B01-PRJ_GEOS141_1000-HIMAWARI8-AHI.nc'))\n",
    "        resolution = 1000\n",
    "        return (data, resolution)\n",
    "    elif (channel == 'f2'):\n",
    "        ## Part of Visible Channels\n",
    "        data = np.squeeze(xarray.open_dataset(path_sat + f'{year}{month}{day}{time}00-P1S-ABOM_OBS_B02-PRJ_GEOS141_1000-HIMAWARI8-AHI.nc'))\n",
    "        resolution = 1000\n",
    "        return (data, resolution)\n",
    "    elif (channel == 'f3'):\n",
    "        ## Part of Visible Channels\n",
    "        data = np.squeeze(xarray.open_dataset(path_sat + f'{year}{month}{day}{time}00-P1S-ABOM_OBS_B03-PRJ_GEOS141_500-HIMAWARI8-AHI.nc'))\n",
    "        resolution = 500\n",
    "        return (data, resolution)\n",
    "    elif (channel == 'f7'):\n",
    "        ## Brightness Temperature 4µm channel \n",
    "        data = np.squeeze(xarray.open_dataset(path_sat + f'{year}{month}{day}{time}00-P1S-ABOM_OBS_B07-PRJ_GEOS141_2000-HIMAWARI8-AHI.nc'))\n",
    "        resolution = 2000\n",
    "        return (data, resolution)\n",
    "    elif (channel == 'f14'):\n",
    "        ## Brightness Temperature 11µm channel\n",
    "        data = np.squeeze(xarray.open_dataset(path_sat + f'{year}{month}{day}{time}00-P1S-ABOM_OBS_B14-PRJ_GEOS141_2000-HIMAWARI8-AHI.nc'))\n",
    "        resolution = 2000\n",
    "        return (data, resolution)\n",
    "    elif (channel == 'f16'):\n",
    "        ## Brightness Temperature 13µm channel\n",
    "        data = np.squeeze(xarray.open_dataset(path_sat + f'{year}{month}{day}{time}00-P1S-ABOM_OBS_B16-PRJ_GEOS141_2000-HIMAWARI8-AHI.nc'))\n",
    "        resolution = 2000\n",
    "        return (data, resolution)\n",
    "    elif (channel == 'f4'):\n",
    "        data = np.squeeze(xarray.open_dataset(path_sat + f'{year}{month}{day}{time}00-P1S-ABOM_OBS_B04-PRJ_GEOS141_1000-HIMAWARI8-AHI.nc'))\n",
    "        resolution = 1000\n",
    "        return (data, resolution)\n",
    "    elif (channel == 'f5'):\n",
    "        data = np.squeeze(xarray.open_dataset(path_sat + f'{year}{month}{day}{time}00-P1S-ABOM_OBS_B05-PRJ_GEOS141_2000-HIMAWARI8-AHI.nc'))\n",
    "        resolution = 2000\n",
    "        return (data, resolution)\n",
    "    elif (channel == 'f6'):\n",
    "        data = np.squeeze(xarray.open_dataset(path_sat + f'{year}{month}{day}{time}00-P1S-ABOM_OBS_B06-PRJ_GEOS141_2000-HIMAWARI8-AHI.nc'))\n",
    "        resolution = 2000\n",
    "        return (data, resolution)\n",
    "    elif (channel == 'f13'):\n",
    "        data = np.squeeze(xarray.open_dataset(path_sat + f'{year}{month}{day}{time}00-P1S-ABOM_OBS_B13-PRJ_GEOS141_2000-HIMAWARI8-AHI.nc'))\n",
    "        resolution = 2000\n",
    "        return (data, resolution)\n",
    "    elif (channel == 'fr1'):\n",
    "        data = np.squeeze(xarray.open_dataset(path_sat + f'{year}{month}{day}{time}00-P1S-ABOM_CREFL_B01-PRJ_GEOS141_1000-HIMAWARI8-AHI.nc'))\n",
    "        resolution = 1000\n",
    "        return (data, resolution)\n",
    "    elif (channel == 'fr2'):\n",
    "        data = np.squeeze(xarray.open_dataset(path_sat + f'{year}{month}{day}{time}00-P1S-ABOM_CREFL_B02-PRJ_GEOS141_1000-HIMAWARI8-AHI.nc'))\n",
    "        resolution = 1000\n",
    "        return (data, resolution)\n",
    "    elif (channel == 'fr3'):\n",
    "        data = np.squeeze(xarray.open_dataset(path_sat + f'{year}{month}{day}{time}00-P1S-ABOM_CREFL_B03-PRJ_GEOS141_500-HIMAWARI8-AHI.nc'))\n",
    "        resolution = 500\n",
    "        return (data, resolution)\n",
    "    elif (channel == 'fr4'):\n",
    "        data = np.squeeze(xarray.open_dataset(path_sat + f'{year}{month}{day}{time}00-P1S-ABOM_CREFL_B04-PRJ_GEOS141_1000-HIMAWARI8-AHI.nc'))\n",
    "        resolution = 1000\n",
    "        return (data, resolution)\n",
    "    elif (channel == 'fr5'):\n",
    "        data = np.squeeze(xarray.open_dataset(path_sat + f'{year}{month}{day}{time}00-P1S-ABOM_CREFL_B05-PRJ_GEOS141_2000-HIMAWARI8-AHI.nc'))\n",
    "        resolution = 2000\n",
    "        return (data, resolution)\n",
    "    elif (channel == 'fr6'):\n",
    "        data = np.squeeze(xarray.open_dataset(path_sat + f'{year}{month}{day}{time}00-P1S-ABOM_CREFL_B06-PRJ_GEOS141_2000-HIMAWARI8-AHI.nc'))\n",
    "        resolution = 2000\n",
    "        return (data, resolution)\n",
    "    elif (channel == 'f_sza'):\n",
    "        data = np.squeeze(xarray.open_dataset(path_sat + f'{year}{month}{day}{time}00-P1S-ABOM_GEOM_SOLAR-PRJ_GEOS141_2000-HIMAWARI8-AHI.nc'))\n",
    "        resolution = 2000\n",
    "        return (data, resolution)\n",
    "    elif (channel == 'ctth'):\n",
    "        path_para = f'/g/data/rv74/satellite-products/arc/der/himawari-ahi/cloud/ctth/{year}/{month}/{day}/'\n",
    "        f_para = path_para + f'S_NWC_CTTH_HIMA08_HIMA-N-NR_{year}{month}{day}T{time}00Z.nc'\n",
    "        data = xarray.open_dataset(f_para)\n",
    "        return (data, np.nan)"
   ]
  },
  {
   "cell_type": "code",
   "execution_count": 4,
   "id": "e9675bc9-9c1c-4433-bbc6-50c7e782b721",
   "metadata": {},
   "outputs": [],
   "source": [
    "def getXYBoundaries(year, month, day, time, minLat, maxLat, minLon, maxLon):\n",
    "    f_sza = getSatelliteData(year, month, day, time, 'f_sza')[0]\n",
    "    fsza_proj4string = f_sza.geostationary.proj4\n",
    "    p = pyproj.Proj(fsza_proj4string)\n",
    "\n",
    "    x1, y2 = p(minLon, minLat)\n",
    "    x2, y1 = p(maxLon, maxLat)\n",
    "\n",
    "    return (x1, x2, y2, y1)"
   ]
  },
  {
   "cell_type": "code",
   "execution_count": 5,
   "id": "5e5f6918-7739-47e1-82e6-b77c05ebec5a",
   "metadata": {},
   "outputs": [],
   "source": [
    "def RectangleUpGrid(data, originalI, originalJ, newI, newJ):\n",
    "    i_conversion_factor = int((newI/originalI))\n",
    "    j_conversion_factor = int((newJ/originalJ))\n",
    "    step1 = np.zeros((newI, originalJ))\n",
    "    ## Scaling up i axis first\n",
    "    i_counter = 0\n",
    "    for i in range(newI):\n",
    "        if (i % i_conversion_factor == 0 and i_counter < originalI):\n",
    "            i_counter += 1\n",
    "        step1[i,:] = data[i_counter-1, :]\n",
    "    final = np.zeros((newI, newJ))\n",
    "\n",
    "    ## Now scaling up j axis\n",
    "    i_counter = 0\n",
    "    for i in range(newJ):\n",
    "        if (i % j_conversion_factor == 0 and i_counter < originalJ):\n",
    "            i_counter += 1\n",
    "        final[:,i] = step1[:, i_counter-1]\n",
    "    return final"
   ]
  },
  {
   "cell_type": "code",
   "execution_count": 6,
   "id": "03cf837c-0f16-4935-949e-11ecaaa890c2",
   "metadata": {},
   "outputs": [],
   "source": [
    "def newFilterData(year, month, day, time, data, minLat, maxLat, minLon, maxLon, x, y):\n",
    "    f_sza = getSatelliteData(year, month, day, time, 'f_sza')[0]\n",
    "    fsza_proj4string = f_sza.geostationary.proj4\n",
    "    p = pyproj.Proj(fsza_proj4string)\n",
    "\n",
    "    x1, y2 = p(minLon, minLat)\n",
    "    x2, y1 = p(maxLon, maxLat)\n",
    "    x1Index = (np.abs(x - x1)).argmin()\n",
    "    x2Index = (np.abs(x - x2)).argmin()\n",
    "    y1Index = (np.abs(y - y1)).argmin()\n",
    "    y2Index = (np.abs(y - y2)).argmin()\n",
    "\n",
    "    ##Throughout the dataset, y comes first and then x, so it is therefore necessary to flip the output of y and x as a result of how this was programmed. \n",
    "    newData = data[y1Index:y2Index, x1Index:x2Index]\n",
    "    newX = x[x1Index:x2Index]\n",
    "    newY = y[y1Index:y2Index]\n",
    "    return (newData, newY, newX)"
   ]
  },
  {
   "cell_type": "code",
   "execution_count": 7,
   "id": "04c9f0dd-7183-4cf1-81e6-8d4c5504d197",
   "metadata": {},
   "outputs": [],
   "source": [
    "def upGridXY(old_x, old_y, originalSize, newSize):\n",
    "    conversion_factor = int((newSize/originalSize))\n",
    "    newX = np.zeros(newSize)\n",
    "    newY = np.zeros(newSize)\n",
    "    counter = 0\n",
    "    for i in range(newSize):\n",
    "        newX[i] = old_x[counter-1]\n",
    "        newY[i] = old_y[counter-1]\n",
    "        if (i % conversion_factor == 0):\n",
    "            counter += 1\n",
    "    finalX = np.zeros(newSize)\n",
    "    finalY = np.zeros(newSize)\n",
    "    finalX[0:-1] = newX[1:]\n",
    "    finalX[-1] = newX[0]\n",
    "\n",
    "    finalY[0:-1] = newY[1:]\n",
    "    finalX[-1] = newX[0]\n",
    "    return finalX, finalY"
   ]
  },
  {
   "cell_type": "code",
   "execution_count": 8,
   "id": "447c976b-0b29-4f31-ab49-542fe7d303dc",
   "metadata": {},
   "outputs": [],
   "source": [
    "def get_HighRes_shifted_array(data, minLat, maxLat, minLon, maxLon, year, month, day, time):\n",
    "    ctth = getSatelliteData(year, month, day, time, \"ctth\")[0]\n",
    "    ctth_data = ctth['ctth_alti'].values\n",
    "    ctth_x = ctth['nx'].values\n",
    "    ctth_y = ctth['ny'].values\n",
    "    up_sza = cv2.resize(ctth_data, (22000, 22000))\n",
    "    nx, ny = upGridXY(ctth_x, ctth_y, len(ctth_x), 22000)\n",
    "\n",
    "\n",
    "    new_ctth, new_nx, new_ny = newFilterData(year, month, day, time, up_sza, minLat, maxLat, minLon, maxLon, \n",
    "                                          nx, ny)\n",
    "\n",
    "    f_sza = getSatelliteData(year, month, day, time, 'f_sza')[0]\n",
    "    fsza_proj4string = f_sza.geostationary.proj4\n",
    "    b = pyproj.CRS.from_string(fsza_proj4string)\n",
    "    a = b.to_dict()\n",
    "    lat = a['lon_0']\n",
    "    height = a['h']\n",
    "\n",
    "    lat2d, lon2d = md.calc_lat_lon_from_proj(fsza_proj4string, new_nx, new_ny)\n",
    "    corr_lon, corr_lat = smp.get_parallax_corrected_lonlats(lat, 0, height, lon2d, lat2d, new_ctth)\n",
    "\n",
    "    shift_lon = corr_lon - lon2d\n",
    "    shift_lat = corr_lat - lat2d\n",
    "    \n",
    "    n, m = shift_lon.shape\n",
    "    shift_500 = np.empty((n, m, 2))\n",
    "    shift_500[:, :, 0] = shift_lon\n",
    "    shift_500[:, :, 1] = shift_lat\n",
    "    shift_m_500 = md.get_shift_xy(shift_500, lon2d, lat2d, corr_lon, corr_lat)\n",
    "    shifted_arr = md.get_shifted_arr(shift_500, shift_m_500, data, 500)\n",
    "\n",
    "    return shifted_arr"
   ]
  },
  {
   "cell_type": "code",
   "execution_count": 9,
   "id": "551735ae-9e5c-4ed7-9799-f294cd38760b",
   "metadata": {},
   "outputs": [],
   "source": [
    "def interpolate(data):\n",
    "    try :\n",
    "        interpolated_data = md.interpolate_missing_pixels(data, np.isnan(data), method = 'nearest')\n",
    "    except Exception as e :\n",
    "        print(\"Here\")\n",
    "        interpolated_data = data\n",
    "\n",
    "    return interpolated_data"
   ]
  },
  {
   "cell_type": "code",
   "execution_count": 10,
   "id": "3474eb25-3ae7-428a-9f50-b40567a22253",
   "metadata": {},
   "outputs": [],
   "source": [
    "def getVisible(f1, f2, f3):\n",
    "    vmin = 0\n",
    "    vmax = .5\n",
    "\n",
    "    B1 = f1.clip(vmin, vmax) / vmax * 255\n",
    "    B2 = f2.clip(vmin, vmax) / vmax * 255\n",
    "    B3 = f3.clip(vmin, vmax) / vmax * 255\n",
    "\n",
    "    rgb = np.stack((B3, B2, B1), axis=2).astype('uint8')\n",
    "    return rgb"
   ]
  },
  {
   "cell_type": "code",
   "execution_count": 11,
   "id": "9a658937-6a1d-42e1-9abd-bdb7f4cf7f53",
   "metadata": {},
   "outputs": [],
   "source": [
    "def getHighResCroppedVisible(year, month, day, time, minLat, maxLat, minLon, maxLon):\n",
    "    f1 = getSatelliteData(year, month, day, time, 'f1')[0]\n",
    "    f2 = getSatelliteData(year, month, day, time, 'f2')[0]\n",
    "    f3 = getSatelliteData(year, month, day, time, 'f3')[0]\n",
    "    \n",
    "    xmin, xmax, ymin, ymax = getXYBoundaries(year, month, day, time, minLat, maxLat, minLon, maxLon)\n",
    "    b1x = f1.x.values\n",
    "    b1y = f1.y.values\n",
    "    \n",
    "    up_b1 = cv2.resize(f1.channel_0001_scaled_radiance.values, (f3.channel_0003_scaled_radiance.values.shape[0], f3.channel_0003_scaled_radiance.values.shape[1]))\n",
    "    up_b2 = cv2.resize(f2.channel_0002_scaled_radiance.values, (f3.channel_0003_scaled_radiance.values.shape[0], f3.channel_0003_scaled_radiance.values.shape[1]))\n",
    "    b3 = f3.channel_0003_scaled_radiance.values\n",
    "    b1nx, b1ny = upGridXY(b1x, b1y, len(b1x), b3.shape[0])\n",
    "\n",
    "    ## The last line of code is specific only to this latitude and longitude, due to algorithm failures.\n",
    "    filter_b1 = newFilterData(year, month, day, time, up_b1, minLat, maxLat, minLon, maxLon, b1nx, b1ny)[0]\n",
    "    filter_b2 = newFilterData(year, month, day, time, up_b2, minLat, maxLat, minLon, maxLon, b1nx, b1ny)[0]\n",
    "    filter_b3 = newFilterData(year, month, day, time, b3, minLat, maxLat, minLon, maxLon, f3.x.values, f3.y.values)[0]\n",
    "    filter_b3 = filter_b3[:, :408]\n",
    "\n",
    "    shifted_arr1 = get_HighRes_shifted_array(filter_b1, minLat, maxLat, minLon, maxLon, year, month, day, time)\n",
    "    shifted_arr2 = get_HighRes_shifted_array(filter_b2, minLat, maxLat, minLon, maxLon, year, month, day, time)\n",
    "    shifted_arr3 = get_HighRes_shifted_array(filter_b3, minLat, maxLat, minLon, maxLon, year, month, day, time)\n",
    "\n",
    "    interpolate_b1 = interpolate(shifted_arr1)\n",
    "    interpolate_b2 = interpolate(shifted_arr2)\n",
    "    interpolate_b3 = interpolate(shifted_arr3)\n",
    "\n",
    "    rgb = getVisible(interpolate_b1, interpolate_b2, interpolate_b3)\n",
    "    return rgb"
   ]
  },
  {
   "cell_type": "code",
   "execution_count": 12,
   "id": "26081d32-3336-4235-8be1-9a9f3d0e1cfd",
   "metadata": {},
   "outputs": [],
   "source": [
    "def compute_LCL(T_arr, Hu_arr):\n",
    "    ## Input, T_final array, Hu_final array that are both of size (m, n)\n",
    "\n",
    "    lcl_t = np.zeros_like(T_arr)\n",
    "    lcl_h = np.zeros_like(T_arr)\n",
    "\n",
    "    for i in range(T_arr.shape[0]):\n",
    "        for j in range(T_arr.shape[1]):\n",
    "            t = T_arr[i][j]\n",
    "            hu = Hu_arr[i][j]\n",
    "            T_units = t * units.degC\n",
    "            Hu_units = hu * units.percent\n",
    "            P_units = 1000 * units.hPa # computed from the first level, 1000 hPa here (cf Copernicus's dataset)\n",
    "            Td_units = metcalc.dewpoint_from_relative_humidity(T_units, Hu_units)\n",
    "            LCL_P_units, LCL_T_units = metcalc.lcl(P_units, T_units, Td_units)\n",
    "    \n",
    "            LCL_T = LCL_T_units.magnitude\n",
    "            lcl_t[i][j] = LCL_T\n",
    "            Td = Td_units.magnitude\n",
    "\n",
    "            a = 125 # constant, expressed in m/°C\n",
    "            LCL_H = a*(t - Td) # expressed in m\n",
    "            lcl_h[i][j] = LCL_H\n",
    "    return (lcl_t, lcl_h)"
   ]
  },
  {
   "cell_type": "code",
   "execution_count": 13,
   "id": "d8d6bb34-bfc9-410b-b14a-c9bc91181ce8",
   "metadata": {},
   "outputs": [],
   "source": [
    "f1 = getSatelliteData(year, month, day, time, 'f1')[0]\n",
    "f2 = getSatelliteData(year, month, day, time, 'f2')[0]\n",
    "f3 = getSatelliteData(year, month, day, time, 'f3')[0]"
   ]
  },
  {
   "cell_type": "code",
   "execution_count": 14,
   "id": "6b911ecc-143f-42f6-88bf-b6512cc28eba",
   "metadata": {},
   "outputs": [],
   "source": [
    "xmin, xmax, ymin, ymax = getXYBoundaries(year, month, day, time, minLat, maxLat, minLon, maxLon)\n",
    "b1x = f1.x.values\n",
    "b1y = f1.y.values"
   ]
  },
  {
   "cell_type": "code",
   "execution_count": 15,
   "id": "55d03e3c-b05c-442e-83be-651f0ba2a35f",
   "metadata": {},
   "outputs": [],
   "source": [
    "up_b1 = cv2.resize(f1.channel_0001_scaled_radiance.values, (f3.channel_0003_scaled_radiance.values.shape[0], f3.channel_0003_scaled_radiance.values.shape[1]))\n",
    "up_b2 = cv2.resize(f2.channel_0002_scaled_radiance.values, (f3.channel_0003_scaled_radiance.values.shape[0], f3.channel_0003_scaled_radiance.values.shape[1]))\n",
    "b3 = f3.channel_0003_scaled_radiance.values\n",
    "b1nx, b1ny = upGridXY(b1x, b1y, len(b1x), b3.shape[0])"
   ]
  },
  {
   "cell_type": "code",
   "execution_count": 16,
   "id": "b4b6e0e4-57f4-4341-b99f-9140af2c714f",
   "metadata": {},
   "outputs": [],
   "source": [
    "filter_b1 = newFilterData(year, month, day, time, up_b1, minLat, maxLat, minLon, maxLon, b1nx, b1ny)[0]\n",
    "filter_b2 = newFilterData(year, month, day, time, up_b2, minLat, maxLat, minLon, maxLon, b1nx, b1ny)[0]\n",
    "filter_b3 = newFilterData(year, month, day, time, b3, minLat, maxLat, minLon, maxLon, f3.x.values, f3.y.values)[0]\n",
    "filter_b3 = filter_b3[:, :408]"
   ]
  },
  {
   "cell_type": "code",
   "execution_count": 17,
   "id": "0d864394-b247-45b1-8717-6c73e46161f9",
   "metadata": {},
   "outputs": [
    {
     "name": "stderr",
     "output_type": "stream",
     "text": [
      "/home/196/jv1871/miniforge3/lib/python3.10/site-packages/pyproj/crs/crs.py:1286: UserWarning: You will likely lose important projection information when converting to a PROJ string from another format. See: https://proj.org/faq.html#what-is-the-best-format-for-describing-coordinate-reference-systems\n",
      "  proj = self._crs.to_proj4(version=version)\n"
     ]
    }
   ],
   "source": [
    "## Implementing the get_high_res shfited_array function\n",
    "\n",
    "ctth = getSatelliteData(year, month, day, time, \"ctth\")[0]\n",
    "ctth_data = ctth['ctth_alti'].values\n",
    "ctth_x = ctth['nx'].values\n",
    "ctth_y = ctth['ny'].values\n",
    "up_sza = cv2.resize(ctth_data, (22000, 22000))\n",
    "nx, ny = upGridXY(ctth_x, ctth_y, len(ctth_x), 22000)\n",
    "\n",
    "\n",
    "new_ctth, new_nx, new_ny = newFilterData(year, month, day, time, up_sza, minLat, maxLat, minLon, maxLon, \n",
    "                                          nx, ny)\n",
    "\n",
    "f_sza = getSatelliteData(year, month, day, time, 'f_sza')[0]\n",
    "fsza_proj4string = f_sza.geostationary.proj4\n",
    "b = pyproj.CRS.from_string(fsza_proj4string)\n",
    "a = b.to_dict()\n",
    "lat = a['lon_0']\n",
    "height = a['h']"
   ]
  },
  {
   "cell_type": "code",
   "execution_count": 18,
   "id": "9f8a507a-6d0a-4095-bda5-8569b37bb9ec",
   "metadata": {},
   "outputs": [],
   "source": [
    "lat2d, lon2d = md.calc_lat_lon_from_proj(fsza_proj4string, new_nx, new_ny)"
   ]
  },
  {
   "cell_type": "code",
   "execution_count": 19,
   "id": "f64cc7b5-a6ce-4e07-9c08-5c8322d22135",
   "metadata": {},
   "outputs": [],
   "source": [
    "corr_lon, corr_lat = smp.get_parallax_corrected_lonlats(lat, 0, height, lon2d, lat2d, new_ctth)\n",
    "\n",
    "shift_lon = corr_lon - lon2d\n",
    "shift_lat = corr_lat - lat2d\n",
    "    \n",
    "n, m = shift_lon.shape\n",
    "shift_500 = np.empty((n, m, 2))\n",
    "shift_500[:, :, 0] = shift_lon\n",
    "shift_500[:, :, 1] = shift_lat\n",
    "\n",
    "shift_m_500 = np.zeros_like(shift_500)"
   ]
  },
  {
   "cell_type": "code",
   "execution_count": 20,
   "id": "13fa63bb-a26e-449b-83e3-edaf7f8b6d45",
   "metadata": {},
   "outputs": [],
   "source": [
    "R = 6373.0 * 1000\n",
    "lat2d_rad = np.radians(lat2d)\n",
    "lon2d_rad = np.radians(lon2d)\n",
    "corr_lon_rad = np.radians(corr_lon)\n",
    "corr_lat_rad = np.radians(corr_lat)\n",
    "\n",
    "## First implementation -- finding the longitude distance\n",
    "shift1_lon = lon2d_rad - corr_lon_rad\n",
    "shift1_lat = lat2d_rad - lat2d_rad\n",
    "a = np.sin(shift1_lat / 2)**2 + np.cos(lat2d_rad) * np.cos(lat2d_rad) * np.sin(shift1_lon / 2)**2\n",
    "x = 2 * np.arctan2(np.sqrt(a), np.sqrt(1 - a))\n",
    "\n",
    "## Second implementation -- finding the latitude distance\n",
    "shift2_lon = lon2d_rad - lon2d_rad\n",
    "shift2_lat = lat2d_rad - corr_lat_rad\n",
    "a = np.sin(shift2_lat / 2)**2 + np.cos(lat2d_rad) * np.cos(corr_lat_rad) * np.sin(shift2_lon / 2)**2\n",
    "y = 2 * np.arctan2(np.sqrt(a), np.sqrt(1 - a))"
   ]
  },
  {
   "cell_type": "code",
   "execution_count": 24,
   "id": "e3340efa-0a59-4ca0-a6a9-7cfe85550f0a",
   "metadata": {},
   "outputs": [],
   "source": [
    "x = np.where((x==np.nan), 0, x)\n",
    "y = np.where((y==np.nan), 0, y)\n",
    "shift_m_500[:, :, 0] = x\n",
    "shift_m_500[:, :, 1] = y"
   ]
  },
  {
   "cell_type": "code",
   "execution_count": 25,
   "id": "4f3ae999-6d8b-4ade-849f-a667b9ec6ca5",
   "metadata": {},
   "outputs": [
    {
     "ename": "ValueError",
     "evalue": "cannot convert float NaN to integer",
     "output_type": "error",
     "traceback": [
      "\u001b[0;31m---------------------------------------------------------------------------\u001b[0m",
      "\u001b[0;31mValueError\u001b[0m                                Traceback (most recent call last)",
      "Cell \u001b[0;32mIn[25], line 1\u001b[0m\n\u001b[0;32m----> 1\u001b[0m shifted_arr \u001b[38;5;241m=\u001b[39m \u001b[43mmd\u001b[49m\u001b[38;5;241;43m.\u001b[39;49m\u001b[43mget_shifted_arr\u001b[49m\u001b[43m(\u001b[49m\u001b[43mshift_500\u001b[49m\u001b[43m,\u001b[49m\u001b[43m \u001b[49m\u001b[43mshift_m_500\u001b[49m\u001b[43m,\u001b[49m\u001b[43m \u001b[49m\u001b[43mfilter_b1\u001b[49m\u001b[43m,\u001b[49m\u001b[43m \u001b[49m\u001b[38;5;241;43m500\u001b[39;49m\u001b[43m)\u001b[49m\n",
      "File \u001b[0;32m~/model.py:454\u001b[0m, in \u001b[0;36mget_shifted_arr\u001b[0;34m(shift, shift_m, arr, res)\u001b[0m\n\u001b[1;32m    452\u001b[0m shift_x \u001b[38;5;241m=\u001b[39m shift_m[i, j, \u001b[38;5;241m0\u001b[39m]\n\u001b[1;32m    453\u001b[0m shift_y \u001b[38;5;241m=\u001b[39m shift_m[i, j, \u001b[38;5;241m1\u001b[39m]\n\u001b[0;32m--> 454\u001b[0m px \u001b[38;5;241m=\u001b[39m \u001b[43mpixel_shift\u001b[49m\u001b[43m(\u001b[49m\u001b[43mshift_x\u001b[49m\u001b[43m,\u001b[49m\u001b[43m \u001b[49m\u001b[43mres\u001b[49m\u001b[43m)\u001b[49m\n\u001b[1;32m    455\u001b[0m py \u001b[38;5;241m=\u001b[39m pixel_shift(shift_y, res)\n\u001b[1;32m    456\u001b[0m \u001b[38;5;28;01mif\u001b[39;00m shift[i, j, \u001b[38;5;241m0\u001b[39m] \u001b[38;5;241m<\u001b[39m \u001b[38;5;241m0\u001b[39m :  \u001b[38;5;66;03m# x/longitude shift\u001b[39;00m\n",
      "File \u001b[0;32m~/model.py:434\u001b[0m, in \u001b[0;36mpixel_shift\u001b[0;34m(shift, res)\u001b[0m\n\u001b[1;32m    432\u001b[0m     \u001b[38;5;28;01mreturn\u001b[39;00m \u001b[38;5;241m1\u001b[39m\n\u001b[1;32m    433\u001b[0m \u001b[38;5;28;01melse\u001b[39;00m:\n\u001b[0;32m--> 434\u001b[0m     \u001b[38;5;28;01mreturn\u001b[39;00m \u001b[38;5;28;43mint\u001b[39;49m\u001b[43m(\u001b[49m\u001b[43m(\u001b[49m\u001b[43mshift\u001b[49m\u001b[38;5;241;43m/\u001b[39;49m\u001b[43mres\u001b[49m\u001b[43m)\u001b[49m\u001b[43m \u001b[49m\u001b[38;5;241;43m+\u001b[39;49m\u001b[43m \u001b[49m\u001b[38;5;241;43m0.5\u001b[39;49m\u001b[43m)\u001b[49m\n",
      "\u001b[0;31mValueError\u001b[0m: cannot convert float NaN to integer"
     ]
    }
   ],
   "source": [
    "shifted_arr = md.get_shifted_arr(shift_500, shift_m_500, filter_b1, 500)"
   ]
  },
  {
   "cell_type": "code",
   "execution_count": null,
   "id": "2dfa0fba-9ab9-4424-bc27-455b6f6ce4c3",
   "metadata": {},
   "outputs": [],
   "source": []
  }
 ],
 "metadata": {
  "kernelspec": {
   "display_name": "Python [conda env:root] *",
   "language": "python",
   "name": "conda-root-py"
  },
  "language_info": {
   "codemirror_mode": {
    "name": "ipython",
    "version": 3
   },
   "file_extension": ".py",
   "mimetype": "text/x-python",
   "name": "python",
   "nbconvert_exporter": "python",
   "pygments_lexer": "ipython3",
   "version": "3.10.10"
  }
 },
 "nbformat": 4,
 "nbformat_minor": 5
}
